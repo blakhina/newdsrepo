{
 "cells": [
  {
   "cell_type": "code",
   "execution_count": 2,
   "metadata": {},
   "outputs": [],
   "source": [
    "import random"
   ]
  },
  {
   "cell_type": "code",
   "execution_count": 3,
   "metadata": {},
   "outputs": [
    {
     "name": "stdout",
     "output_type": "stream",
     "text": [
      "guess the integer:11\n",
      "Cold!\n",
      "guess the integer:110\n",
      "Out of Bounds\n",
      "guess the integer:12\n",
      "Colder!\n",
      "guess the integer:99\n",
      "Warmer!\n",
      "guess the integer:55\n",
      "Warmer!\n",
      "guess the integer:44\n",
      "Colder!\n",
      "guess the integer:50\n",
      "Warmer!\n",
      "guess the integer:51\n",
      "Warmer!\n",
      "guess the integer:60\n",
      "Warmer!\n",
      "guess the integer:62\n",
      "Warmer!\n",
      "guess the integer:70\n",
      "Colder!\n",
      "guess the integer:69\n",
      "Warmer!\n",
      "guess the integer:64\n",
      "Warmer!\n",
      "guess the integer:65\n",
      "Warmer!\n",
      "You won 14\n"
     ]
    }
   ],
   "source": [
    "secret_num=random.randint(1,100)\n",
    "list_of_guesses=[]\n",
    "num=0\n",
    "guesses=0\n",
    "while num!=secret_num:\n",
    "    num=int(input('guess the integer:'))\n",
    "    list_of_guesses.append(num)\n",
    "    if guesses==0 and abs(secret_num-num)<=10:\n",
    "        print(\"Warm!\")\n",
    "    elif num not in range(1,101):\n",
    "        print('Out of Bounds')\n",
    "    elif guesses>0 and abs(secret_num-num)-abs(secret_num-list_of_guesses[guesses-1])<0:\n",
    "        print(\"Warmer!\")\n",
    "    elif guesses>0 and abs(secret_num-num)-abs(secret_num-list_of_guesses[guesses-1])==0:\n",
    "        print('Same number')\n",
    "    elif guesses>0 and abs(secret_num-num)-abs(secret_num-list_of_guesses[guesses-1])>0:\n",
    "        print(\"Colder!\")\n",
    "    \n",
    "    else:\n",
    "        print(\"Cold!\")\n",
    "    guesses+=1\n",
    "print(\"You won\",guesses)"
   ]
  },
  {
   "cell_type": "code",
   "execution_count": null,
   "metadata": {},
   "outputs": [],
   "source": []
  }
 ],
 "metadata": {
  "kernelspec": {
   "display_name": "Python 3",
   "language": "python",
   "name": "python3"
  },
  "language_info": {
   "codemirror_mode": {
    "name": "ipython",
    "version": 3
   },
   "file_extension": ".py",
   "mimetype": "text/x-python",
   "name": "python",
   "nbconvert_exporter": "python",
   "pygments_lexer": "ipython3",
   "version": "3.7.6"
  }
 },
 "nbformat": 4,
 "nbformat_minor": 4
}
